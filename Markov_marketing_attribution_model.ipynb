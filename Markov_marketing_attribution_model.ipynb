{
  "nbformat": 4,
  "nbformat_minor": 0,
  "metadata": {
    "colab": {
      "provenance": [],
      "gpuType": "V28",
      "authorship_tag": "ABX9TyNs9/8/8Yp1iccVyJaUwahu",
      "include_colab_link": true
    },
    "kernelspec": {
      "name": "python3",
      "display_name": "Python 3"
    },
    "language_info": {
      "name": "python"
    },
    "accelerator": "TPU"
  },
  "cells": [
    {
      "cell_type": "markdown",
      "metadata": {
        "id": "view-in-github",
        "colab_type": "text"
      },
      "source": [
        "<a href=\"https://colab.research.google.com/github/myriamnavas/markov-marketing-attribution-model/blob/main/Markov_marketing_attribution_model.ipynb\" target=\"_parent\"><img src=\"https://colab.research.google.com/assets/colab-badge.svg\" alt=\"Open In Colab\"/></a>"
      ]
    },
    {
      "cell_type": "markdown",
      "source": [
        "##**Análisis de Atribución de Marketing con Cadenas de Markov**\n",
        "\n",
        "\n"
      ],
      "metadata": {
        "id": "i85JdYfMTIRP"
      }
    },
    {
      "cell_type": "markdown",
      "source": [
        "En este notebook explicaremos paso a paso cómo implementar un modelo de atribución de marketing basado en cadenas de Markov. Este enfoque nos permite analizar el mérito de las conversiones a los diferentes canales de marketing o diferentes campañas de una manera que tiene en cuenta todo el recorrido del cliente, en lugar de asignar todo el mérito al primer o último toque."
      ],
      "metadata": {
        "id": "hgGiKTS4ZsaO"
      }
    },
    {
      "cell_type": "markdown",
      "source": [
        "El objetivo es proporcionar una herramienta capaz de dar sentido al dilema de la atribución donde cada plataforma que usamos mide de manera diferente. Este modelo no resuelve al 100% esta situación (para eso están los MMM) ya que toma los datos de base del informe de rutas de atribución de Google Analytics 4 o de Google Ads pero ofrece una información muy valiosa para entender cómo fluyen las campañas con los diferentes canales existentes dentro del mix de estrategias de marketing.\n"
      ],
      "metadata": {
        "id": "TYGrNnJPZ76G"
      }
    },
    {
      "cell_type": "markdown",
      "source": [
        "El modelo de atribución que se propone está basado en el método de las cadenas de Markov con las siguientes particularidades:\n",
        "\n",
        "\n",
        "1.   **Considera el recorrido completo del usuario**: A diferencia de los modelos simples, evalúa todas las interacciones que llevaron a la conversión.\n",
        "2.   **Combina diferentes enfoques:** Esta propuesta integra tres modelos, el removal effect, el first touch y un método \"balanced\" que integra tanto el efecto de eliminación como el de primer contacto en una proporción 40%/60%. Esta proporción está pensada para darle mayor peso a los canales de entrada, tradicionalmente minusvalorados por GA4.\n",
        "3.  **Incluye un proceso de convergencia:** Al probar distintos números de iteraciones, comprobamos cuándo los resultados dejan de cambiar significativamente, logrando un buen equilibrio entre precisión y tiempo de espera.\n",
        "4. **Visualización clara:** El diagrama Sankey muestra de manera intuitiva cómo fluyen los usuarios entre los diferentes canales antes de convertir.\n",
        "\n",
        "Para implementar este modelo con tus propios datos, necesitarás un CSV con las columnas 'path' y 'conversions', donde:\n",
        "\n",
        "\n",
        "*   **'path'** contiene la secuencia de canales separados por el separador (por defecto ' > ')   \n",
        "*   **'conversions'** indica el número de conversiones para cada ruta\n",
        "\n",
        "Este enfoque puede ayudarte a entender el customer journey y a distribuir de manera más justa el presupuesto de marketing entre los diferentes canales, basándote en su contribución a las conversiones.\n",
        "\n",
        "En este mismo repositorio tienes un archivo csv para que puedas probar el modelo.\n",
        "\n",
        "**Nota:** el modelo se ha probado con hasta 16 canales diferentes tardando un total de aproximadamente 45 minutos en pasar el modelo completo. Con un menor número de canales no son necesarias tantas iteraciones. Se recomienda empezar con secuencias de iteraciones bajas e ir ampliando para ajustar la convergencia del modelo."
      ],
      "metadata": {
        "id": "M8KIw32tTVgq"
      }
    },
    {
      "cell_type": "markdown",
      "source": [
        "**1. Configuración inicial y carga de librerías**  \n",
        "\n",
        "Primero, cargaremos todas las librerías necesarias y configuraremos algunos parámetros globales."
      ],
      "metadata": {
        "id": "RWv9RFXCf8zM"
      }
    },
    {
      "cell_type": "code",
      "source": [
        "#Importación de librerías\n",
        "\n",
        "import pandas as pd\n",
        "import numpy as np\n",
        "from collections import defaultdict\n",
        "import time\n",
        "import matplotlib.pyplot as plt\n",
        "import plotly.graph_objects as go\n"
      ],
      "metadata": {
        "id": "Q7TMiGQLTRxQ"
      },
      "execution_count": null,
      "outputs": []
    },
    {
      "cell_type": "markdown",
      "source": [
        "**2. Conexión con Drive**  \n",
        "Montamos la conexión con Drive para que puedas ejecutar el modelo desde el Colab.\n"
      ],
      "metadata": {
        "id": "Gaj6S2BqxIfq"
      }
    },
    {
      "cell_type": "code",
      "source": [
        "# Mounting the connection with Drive.\n",
        "from google.colab import drive\n",
        "drive.mount('/content/drive')"
      ],
      "metadata": {
        "id": "WhkyfB5OxI16",
        "colab": {
          "base_uri": "https://localhost:8080/"
        },
        "outputId": "8e916e45-0bcc-4305-f75b-b0ea661d5775"
      },
      "execution_count": null,
      "outputs": [
        {
          "output_type": "stream",
          "name": "stdout",
          "text": [
            "Mounted at /content/drive\n"
          ]
        }
      ]
    },
    {
      "cell_type": "markdown",
      "source": [
        "**3. Configuración de parámetros**  \n",
        "Establecemos los parámetros que controlarán la ejecución del modelo."
      ],
      "metadata": {
        "id": "Jet5oVoJhHYX"
      }
    },
    {
      "cell_type": "code",
      "source": [
        "# -------------------------------\n",
        "# CONFIGURACIÓN\n",
        "# -------------------------------\n",
        "\n",
        "# Fijar la semilla para reproducibilidad\n",
        "np.random.seed(42)\n",
        "\n",
        "# Iteraciones a probar\n",
        "ITERATIONS_TO_TEST = [100000, 125000, 150000, 175000]\n",
        "\n",
        "# Variables globales para almacenar los resultados de atribución\n",
        "removal_attribution_global = {}\n",
        "first_touch_attribution_global = {}\n",
        "\n",
        "# Umbral mínimo de atribución\n",
        "MIN_ATTRIBUTION = 0.001\n",
        "\n",
        "# Método de atribución\n",
        "ATTRIBUTION_METHOD = 'balanced'\n",
        "\n",
        "# Ruta del archivo CSV con rutas y conversiones\n",
        "#ruta_csv = \"PON_AQUI_LA_RUTA_DE_TU_ARCHIVO_DE_RUTAS.csv\"  # Ajusta esta ruta a la ubicación del archivo en tu sistema\n",
        "\n",
        "ruta_csv = \"/content/drive/MyDrive/01. Mis cosas/09. Markov/rutas.csv\"\n",
        "\n",
        "# Separador entre canales\n",
        "separator = ' > '"
      ],
      "metadata": {
        "id": "4RBFyGGETet5"
      },
      "execution_count": null,
      "outputs": []
    },
    {
      "cell_type": "markdown",
      "source": [
        "**4. Carga y procesamiento de datos**  \n",
        "La siguiente función se encarga de cargar los datos desde un CSV y procesarlos para crear la matriz de transición que utilizará la cadena de Markov.\n"
      ],
      "metadata": {
        "id": "XLHuGXYUT705"
      }
    },
    {
      "cell_type": "code",
      "source": [
        "# -------------------------------\n",
        "# FUNCIONES\n",
        "# -------------------------------\n",
        "\n",
        "def load_and_process_data(csv_path, separator):\n",
        "    \"\"\"Carga y procesa los datos de rutas de conversión.\n",
        "\n",
        "    Args:\n",
        "        csv_path: Ruta al archivo CSV con los datos\n",
        "        separator: Separador entre canales en las rutas\n",
        "\n",
        "    Returns:\n",
        "        transition_matrix: Matriz de transición para la cadena de Markov\n",
        "        channel_counts: Contador de apariciones de cada canal\n",
        "        transition_counts: Contador de transiciones entre canales\n",
        "    \"\"\"\n",
        "\n",
        "    data = pd.read_csv(csv_path)\n",
        "\n",
        "    # Verificar columnas necesarias\n",
        "    if 'path' not in data.columns or 'conversions' not in data.columns:\n",
        "        raise ValueError(\"El CSV debe contener las columnas 'path' y 'conversions'\")\n",
        "\n",
        "    # Contar apariciones y transiciones\n",
        "    channel_counts = defaultdict(int)\n",
        "    transition_counts = defaultdict(int)\n",
        "\n",
        "    for _, row in data.iterrows():\n",
        "        steps = row['path'].split(separator)\n",
        "        steps = ['START'] + steps + ['CONVERSION']\n",
        "\n",
        "        # Contar apariciones\n",
        "        for step in steps:\n",
        "            if step not in ['START', 'CONVERSION']:\n",
        "                channel_counts[step] += row['conversions']\n",
        "\n",
        "        # Contar transiciones\n",
        "        for i in range(len(steps) - 1):\n",
        "            transition_counts[(steps[i], steps[i+1])] += row['conversions']\n",
        "\n",
        "    # Crear matriz de transición\n",
        "    states = list(set([k[0] for k in transition_counts] + [k[1] for k in transition_counts]))\n",
        "    transition_matrix = pd.DataFrame(0.0, index=states, columns=states)\n",
        "\n",
        "    # Llenar la matriz de transición con probabilidades\n",
        "    for (from_state, to_state), count in transition_counts.items():\n",
        "        total_from = sum([v for (f, t), v in transition_counts.items() if f == from_state])\n",
        "        if total_from > 0:\n",
        "            transition_matrix.loc[from_state, to_state] = count / total_from\n",
        "\n",
        "    return transition_matrix, channel_counts, transition_counts\n",
        "\n"
      ],
      "metadata": {
        "id": "NuBMjpvMTh9E"
      },
      "execution_count": null,
      "outputs": []
    },
    {
      "cell_type": "markdown",
      "source": [
        "**5. Simulación de probabilidad de conversión**  \n",
        "Esta función simula caminos a través de la cadena de Markov para estimar la probabilidad de conversión."
      ],
      "metadata": {
        "id": "3g7F4rFZjBr1"
      }
    },
    {
      "cell_type": "code",
      "source": [
        "def simulate_conversion_prob(matrix, start_state, n_simulations):\n",
        "    \"\"\"\n",
        "    Simula la probabilidad de conversión usando la matriz de transición de Markov.\n",
        "\n",
        "    Args:\n",
        "        matrix: Matriz de transición\n",
        "        start_state: Estado inicial ('START')\n",
        "        n_simulations: Número de simulaciones a realizar\n",
        "\n",
        "    Returns:\n",
        "        conversion_prob: Probabilidad estimada de conversión\n",
        "        path_channels: Conjunto de canales visitados en las simulaciones\n",
        "    \"\"\"\n",
        "    conversions = 0\n",
        "    path_channels = set()\n",
        "\n",
        "    for _ in range(n_simulations):\n",
        "        state = start_state\n",
        "        steps = 0\n",
        "        MAX_STEPS = 100  # Límite para evitar bucles infinitos\n",
        "\n",
        "        while steps < MAX_STEPS:\n",
        "            # Obtener probabilidades de transición desde el estado actual\n",
        "            probs = matrix.loc[state].values\n",
        "            total_prob = probs.sum()\n",
        "\n",
        "            # Si no hay probabilidades válidas, terminar\n",
        "            if total_prob < 1e-10:\n",
        "                break\n",
        "\n",
        "            # Normalizar probabilidades\n",
        "            probs = probs / total_prob\n",
        "\n",
        "            try:\n",
        "                # Elegir el siguiente estado según las probabilidades\n",
        "                next_state = np.random.choice(matrix.columns, p=probs)\n",
        "            except ValueError:\n",
        "                break\n",
        "\n",
        "            # Registrar canal si no es un estado especial\n",
        "            if next_state != 'START' and next_state != 'CONVERSION':\n",
        "                path_channels.add(next_state)\n",
        "\n",
        "            # Manejar casos especiales\n",
        "            if next_state == 'CONVERSION':\n",
        "                conversions += 1\n",
        "                break\n",
        "            elif next_state == state or next_state == 'NULL':\n",
        "                break\n",
        "            else:\n",
        "                state = next_state\n",
        "                steps += 1\n",
        "\n",
        "    # Calcular probabilidad como proporción de simulaciones que terminaron en conversión\n",
        "    return conversions / n_simulations, path_channels"
      ],
      "metadata": {
        "id": "6roOryoyjA0a"
      },
      "execution_count": null,
      "outputs": []
    },
    {
      "cell_type": "markdown",
      "source": [
        "**6. Cálculo de atribución**  \n",
        "Esta función implementa el cálculo de atribución utilizando diferentes métodos."
      ],
      "metadata": {
        "id": "WjiZDQw9jgm_"
      }
    },
    {
      "cell_type": "code",
      "source": [
        "def calculate_attribution(transition_matrix, n_simulations, method='balanced', min_attribution=0.001):\n",
        "    \"\"\"\n",
        "    Calcula la atribución de cada canal según el método elegido.\n",
        "\n",
        "    Args:\n",
        "        transition_matrix: Matriz de transición de Markov\n",
        "        n_simulations: Número de simulaciones a realizar\n",
        "        method: Método de atribución ('balanced', 'removal_effect', o 'first_touch_bias')\n",
        "        min_attribution: Valor mínimo de atribución\n",
        "\n",
        "    Returns:\n",
        "        attribution: Diccionario con la atribución de cada canal\n",
        "        original_prob: Probabilidad de conversión original\n",
        "        execution_time: Tiempo de ejecución\n",
        "    \"\"\"\n",
        "    start_time = time.time()\n",
        "\n",
        "    # Simular probabilidad original con todos los canales\n",
        "    original_prob, channels_in_paths = simulate_conversion_prob(transition_matrix, 'START', n_simulations)\n",
        "\n",
        "    # Calcular efectos para diferentes métodos de atribución\n",
        "    removal_effect = {}\n",
        "    first_touch_effect = {}\n",
        "\n",
        "    # Para cada canal, calcular su efecto\n",
        "    for channel in set(transition_matrix.columns) - {'START', 'CONVERSION', 'NULL'}:\n",
        "        # 1. Método de removal effect (eliminación)\n",
        "        # Crear una copia de la matriz y eliminar el canal\n",
        "        matrix_copy = transition_matrix.copy()\n",
        "        matrix_copy.loc[:, channel] = 0\n",
        "        matrix_copy.loc[channel, :] = 0\n",
        "\n",
        "        # Simular con el canal eliminado\n",
        "        prob_without, _ = simulate_conversion_prob(matrix_copy, 'START', n_simulations)\n",
        "        removal_effect[channel] = max(original_prob - prob_without, 0)\n",
        "\n",
        "        # 2. Método de first-touch (primer contacto)\n",
        "        first_touch_count = transition_counts.get(('START', channel), 0)\n",
        "        total_first_touches = sum([v for (f, t), v in transition_counts.items() if f == 'START'])\n",
        "\n",
        "        if total_first_touches > 0:\n",
        "            first_touch_effect[channel] = first_touch_count / total_first_touches\n",
        "        else:\n",
        "            first_touch_effect[channel] = 0\n",
        "\n",
        "    # Normalización de los efectos\n",
        "    total_removal = sum(removal_effect.values())\n",
        "    if total_removal > 0:\n",
        "        removal_attribution = {k: v / total_removal for k, v in removal_effect.items()}\n",
        "    else:\n",
        "        removal_attribution = {k: 0 for k in removal_effect}\n",
        "\n",
        "    total_first_touch = sum(first_touch_effect.values())\n",
        "    if total_first_touch > 0:\n",
        "        first_touch_attribution = {k: v / total_first_touch for k, v in first_touch_effect.items()}\n",
        "    else:\n",
        "        first_touch_attribution = {k: 0 for k in first_touch_effect}\n",
        "\n",
        "    # Elegir método final de atribución\n",
        "    if method == 'removal_effect':\n",
        "        attribution = removal_attribution\n",
        "    elif method == 'first_touch_bias':\n",
        "        attribution = first_touch_attribution\n",
        "    elif method == 'balanced':\n",
        "        # Combinar ambos métodos (60% removal, 40% first-touch)\n",
        "        attribution = {}\n",
        "        for channel in set(removal_attribution.keys()) | set(first_touch_attribution.keys()):\n",
        "            removal_value = removal_attribution.get(channel, 0)\n",
        "            first_touch_value = first_touch_attribution.get(channel, 0)\n",
        "            attribution[channel] = 0.6 * removal_value + 0.4 * first_touch_value\n",
        "\n",
        "    # Aplicar umbral mínimo de atribución\n",
        "    for channel in attribution:\n",
        "        if attribution[channel] < min_attribution and channel_counts[channel] > 0:\n",
        "            attribution[channel] = min_attribution\n",
        "\n",
        "    # Renormalizar para que sumen 1\n",
        "    total_attr = sum(attribution.values())\n",
        "    attribution = {k: v / total_attr for k, v in attribution.items()}\n",
        "\n",
        "    end_time = time.time()\n",
        "    execution_time = end_time - start_time\n",
        "\n",
        "    # Guardar los valores de atribución originales para uso posterior\n",
        "    global removal_attribution_global, first_touch_attribution_global\n",
        "    removal_attribution_global = removal_attribution\n",
        "    first_touch_attribution_global = first_touch_attribution\n",
        "\n",
        "    return attribution, original_prob, execution_time"
      ],
      "metadata": {
        "id": "qdMmo-zxjg9h"
      },
      "execution_count": null,
      "outputs": []
    },
    {
      "cell_type": "markdown",
      "source": [
        "**7. Ejecución del experimento principal**  \n",
        "Ahora configuramos y ejecutamos el experimento completo, probando diferentes números de iteraciones."
      ],
      "metadata": {
        "id": "kOtuOYCmkKzI"
      }
    },
    {
      "cell_type": "code",
      "source": [
        "# -------------------------------\n",
        "# EXPERIMENTO PRINCIPAL\n",
        "# -------------------------------\n",
        "\n",
        "print(\"Cargando y procesando datos...\")\n",
        "transition_matrix, channel_counts, transition_counts = load_and_process_data(ruta_csv, separator)\n",
        "print(f\"Matriz de transición creada con {len(transition_matrix.columns)} estados\")\n",
        "\n",
        "# Almacenar resultados para cada número de iteraciones\n",
        "all_results = {}\n",
        "execution_times = []\n",
        "conversion_probs = []\n",
        "nonzero_channels = []\n",
        "\n",
        "# Comprobar consistencia con diferentes números de iteraciones\n",
        "for n_iter in ITERATIONS_TO_TEST:\n",
        "    print(f\"\\nProbando con {n_iter} iteraciones...\")\n",
        "    attribution, conv_prob, exec_time = calculate_attribution(\n",
        "        transition_matrix,\n",
        "        n_iter,\n",
        "        method=ATTRIBUTION_METHOD,\n",
        "        min_attribution=MIN_ATTRIBUTION\n",
        "    )\n",
        "\n",
        "    all_results[n_iter] = attribution\n",
        "    execution_times.append(exec_time)\n",
        "    conversion_probs.append(conv_prob)\n",
        "    nonzero_channels.append(len([ch for ch, val in attribution.items() if val > 0]))\n",
        "\n",
        "    print(f\"Tiempo de ejecución: {exec_time:.2f} segundos\")\n",
        "    print(f\"Probabilidad de conversión: {conv_prob:.6f}\")\n",
        "    print(f\"Canales con atribución > 0: {nonzero_channels[-1]} de {len(attribution)}\")\n",
        "\n",
        "# Calcular diferencias entre ejecuciones consecutivas\n",
        "differences = []\n",
        "for i in range(1, len(ITERATIONS_TO_TEST)):\n",
        "    prev_iter = ITERATIONS_TO_TEST[i-1]\n",
        "    curr_iter = ITERATIONS_TO_TEST[i]\n",
        "\n",
        "    # Seleccionar top 10 canales según la mayor iteración\n",
        "    top_channels = sorted(all_results[curr_iter].items(), key=lambda x: x[1], reverse=True)[:10]\n",
        "    top_channel_names = [ch for ch, _ in top_channels]\n",
        "\n",
        "    # Calcular diferencia promedio para estos canales\n",
        "    diffs = []\n",
        "    for channel in top_channel_names:\n",
        "        prev_value = all_results[prev_iter].get(channel, 0)\n",
        "        curr_value = all_results[curr_iter].get(channel, 0)\n",
        "        if curr_value > 0:  # Evitar división por cero\n",
        "            pct_diff = abs(curr_value - prev_value) / curr_value * 100\n",
        "            diffs.append(pct_diff)\n",
        "\n",
        "    avg_diff = sum(diffs) / len(diffs) if diffs else 0\n",
        "    differences.append(avg_diff)\n",
        "\n",
        "    print(f\"\\nDiferencia promedio en top 10 canales entre {prev_iter} y {curr_iter} iteraciones: {avg_diff:.2f}%\")\n",
        "\n"
      ],
      "metadata": {
        "id": "GhhRbJ5MkLGg",
        "colab": {
          "base_uri": "https://localhost:8080/"
        },
        "outputId": "123dc380-94a3-44f1-e3bd-9079b8a4c04b"
      },
      "execution_count": null,
      "outputs": [
        {
          "output_type": "stream",
          "name": "stdout",
          "text": [
            "Cargando y procesando datos...\n",
            "Matriz de transición creada con 12 estados\n",
            "\n",
            "Probando con 100000 iteraciones...\n",
            "Tiempo de ejecución: 124.00 segundos\n",
            "Probabilidad de conversión: 0.713180\n",
            "Canales con atribución > 0: 10 de 10\n",
            "\n",
            "Probando con 125000 iteraciones...\n",
            "Tiempo de ejecución: 154.23 segundos\n",
            "Probabilidad de conversión: 0.711312\n",
            "Canales con atribución > 0: 10 de 10\n",
            "\n",
            "Probando con 150000 iteraciones...\n",
            "Tiempo de ejecución: 184.28 segundos\n",
            "Probabilidad de conversión: 0.712673\n",
            "Canales con atribución > 0: 10 de 10\n",
            "\n",
            "Probando con 175000 iteraciones...\n",
            "Tiempo de ejecución: 214.15 segundos\n",
            "Probabilidad de conversión: 0.712663\n",
            "Canales con atribución > 0: 10 de 10\n",
            "\n",
            "Diferencia promedio en top 10 canales entre 100000 y 125000 iteraciones: 38.91%\n",
            "\n",
            "Diferencia promedio en top 10 canales entre 125000 y 150000 iteraciones: 10.77%\n",
            "\n",
            "Diferencia promedio en top 10 canales entre 150000 y 175000 iteraciones: 6.57%\n"
          ]
        }
      ]
    },
    {
      "cell_type": "markdown",
      "source": [
        "**8. Visualización con diagrama Sankey**  \n",
        "Creamos un diagrama Sankey para visualizar el flujo entre canales."
      ],
      "metadata": {
        "id": "L_7bDl0Ikm3u"
      }
    },
    {
      "cell_type": "code",
      "source": [
        "# -------------------------------\n",
        "# VISUALIZACIÓN DE RESULTADOS\n",
        "# -------------------------------\n",
        "\n",
        "# ---------------------------------\n",
        "# VISUALIZACIÓN – DIAGRAMA SANKEY\n",
        "# ---------------------------------\n",
        "\n",
        "# Crear el diagrama Sankey\n",
        "labels = list(set([k[0] for k in transition_counts] + [k[1] for k in transition_counts]))\n",
        "label_indices = {label: i for i, label in enumerate(labels)}\n",
        "\n",
        "sources = [label_indices[k[0]] for k in transition_counts.keys()]\n",
        "targets = [label_indices[k[1]] for k in transition_counts.keys()]\n",
        "values = list(transition_counts.values())\n",
        "\n",
        "# Verificar que tenemos datos válidos\n",
        "if not sources or not targets or not values:\n",
        "    print(\"⚠️ No hay suficientes datos para generar el diagrama Sankey\")\n",
        "else:\n",
        "    try:\n",
        "        fig = go.Figure(data=[go.Sankey(\n",
        "            node=dict(\n",
        "                pad=30,\n",
        "                thickness=20,\n",
        "                line=dict(color=\"black\", width=0.5),\n",
        "                label=labels,\n",
        "            ),\n",
        "            link=dict(\n",
        "                source=sources,\n",
        "                target=targets,\n",
        "                value=values\n",
        "            ))])\n",
        "\n",
        "        fig.update_layout(\n",
        "            title_text=\"Flujo de usuarios entre canales (Sankey)\",\n",
        "            font_size=12,\n",
        "            height=800,  # Altura explícita\n",
        "            width=1400   # Anchura explícita\n",
        "        )\n",
        "\n",
        "        # Guardar como HTML\n",
        "        fig.write_html(\"sankey_markov.html\")\n",
        "        print(\"✅ Archivo 'sankey_markov.html' guardado correctamente.\")\n",
        "\n",
        "        # En Jupyter, esto mostrará el gráfico directamente\n",
        "        fig.show()\n",
        "\n",
        "    except Exception as e:\n",
        "        print(f\"❌ Error al crear el diagrama Sankey: {e}\")\n",
        "        print(\"   Verifica que los datos de transición son válidos.\")\n",
        "\n"
      ],
      "metadata": {
        "id": "64Zrk4fMknCQ",
        "colab": {
          "base_uri": "https://localhost:8080/",
          "height": 834
        },
        "outputId": "b2e9b85e-e59f-443f-89e0-316b1bcbc846"
      },
      "execution_count": null,
      "outputs": [
        {
          "output_type": "stream",
          "name": "stdout",
          "text": [
            "✅ Archivo 'sankey_markov.html' guardado correctamente.\n"
          ]
        },
        {
          "output_type": "display_data",
          "data": {
            "text/html": [
              "<html>\n",
              "<head><meta charset=\"utf-8\" /></head>\n",
              "<body>\n",
              "    <div>            <script src=\"https://cdnjs.cloudflare.com/ajax/libs/mathjax/2.7.5/MathJax.js?config=TeX-AMS-MML_SVG\"></script><script type=\"text/javascript\">if (window.MathJax && window.MathJax.Hub && window.MathJax.Hub.Config) {window.MathJax.Hub.Config({SVG: {font: \"STIX-Web\"}});}</script>                <script type=\"text/javascript\">window.PlotlyConfig = {MathJaxConfig: 'local'};</script>\n",
              "        <script charset=\"utf-8\" src=\"https://cdn.plot.ly/plotly-2.35.2.min.js\"></script>                <div id=\"eb064f0b-bac0-4be9-8f9e-715db351e4b7\" class=\"plotly-graph-div\" style=\"height:800px; width:1400px;\"></div>            <script type=\"text/javascript\">                                    window.PLOTLYENV=window.PLOTLYENV || {};                                    if (document.getElementById(\"eb064f0b-bac0-4be9-8f9e-715db351e4b7\")) {                    Plotly.newPlot(                        \"eb064f0b-bac0-4be9-8f9e-715db351e4b7\",                        [{\"link\":{\"source\":[4,10,4,1,10,4,6,4,0,4,9,4,8,6,10,7,4,4,5,6,10,0,7,0,6,6,7,8,4,3,3,3,8,0,0,10,7,10,5,9,7,10,3,4,11,8,10,11,11],\"target\":[10,2,1,2,10,6,2,0,2,9,2,8,2,6,7,2,7,5,2,10,6,7,7,0,0,7,6,8,3,3,0,2,10,6,10,0,8,8,5,6,10,3,10,11,8,7,5,11,9],\"value\":[149,146,40,40,85,46,46,25,23,7,7,10,11,17,6,12,6,9,10,4,5,2,4,4,3,1,1,8,3,4,1,2,2,1,4,1,2,1,12,1,1,1,1,2,1,1,1,4,1]},\"node\":{\"label\":[\"\\\"GAds - Search - Brand\\\"\",\"\\\"(direct)\\\"\",\"CONVERSION\",\"\\\"GAds - DGen\\\"\",\"START\",\"\\\"Email\\\"\",\"\\\"GAds - PMax\\\"\",\"\\\"(referral)\\\"\",\"\\\"Meta - Remarketing\\\"\",\"\\\"Meta - Adv+\\\"\",\"\\\"(organic)\\\"\",\"\\\"Meta - Upper - Alta incencionalidad\\\"\"],\"line\":{\"color\":\"black\",\"width\":0.5},\"pad\":30,\"thickness\":20},\"type\":\"sankey\"}],                        {\"template\":{\"data\":{\"histogram2dcontour\":[{\"type\":\"histogram2dcontour\",\"colorbar\":{\"outlinewidth\":0,\"ticks\":\"\"},\"colorscale\":[[0.0,\"#0d0887\"],[0.1111111111111111,\"#46039f\"],[0.2222222222222222,\"#7201a8\"],[0.3333333333333333,\"#9c179e\"],[0.4444444444444444,\"#bd3786\"],[0.5555555555555556,\"#d8576b\"],[0.6666666666666666,\"#ed7953\"],[0.7777777777777778,\"#fb9f3a\"],[0.8888888888888888,\"#fdca26\"],[1.0,\"#f0f921\"]]}],\"choropleth\":[{\"type\":\"choropleth\",\"colorbar\":{\"outlinewidth\":0,\"ticks\":\"\"}}],\"histogram2d\":[{\"type\":\"histogram2d\",\"colorbar\":{\"outlinewidth\":0,\"ticks\":\"\"},\"colorscale\":[[0.0,\"#0d0887\"],[0.1111111111111111,\"#46039f\"],[0.2222222222222222,\"#7201a8\"],[0.3333333333333333,\"#9c179e\"],[0.4444444444444444,\"#bd3786\"],[0.5555555555555556,\"#d8576b\"],[0.6666666666666666,\"#ed7953\"],[0.7777777777777778,\"#fb9f3a\"],[0.8888888888888888,\"#fdca26\"],[1.0,\"#f0f921\"]]}],\"heatmap\":[{\"type\":\"heatmap\",\"colorbar\":{\"outlinewidth\":0,\"ticks\":\"\"},\"colorscale\":[[0.0,\"#0d0887\"],[0.1111111111111111,\"#46039f\"],[0.2222222222222222,\"#7201a8\"],[0.3333333333333333,\"#9c179e\"],[0.4444444444444444,\"#bd3786\"],[0.5555555555555556,\"#d8576b\"],[0.6666666666666666,\"#ed7953\"],[0.7777777777777778,\"#fb9f3a\"],[0.8888888888888888,\"#fdca26\"],[1.0,\"#f0f921\"]]}],\"heatmapgl\":[{\"type\":\"heatmapgl\",\"colorbar\":{\"outlinewidth\":0,\"ticks\":\"\"},\"colorscale\":[[0.0,\"#0d0887\"],[0.1111111111111111,\"#46039f\"],[0.2222222222222222,\"#7201a8\"],[0.3333333333333333,\"#9c179e\"],[0.4444444444444444,\"#bd3786\"],[0.5555555555555556,\"#d8576b\"],[0.6666666666666666,\"#ed7953\"],[0.7777777777777778,\"#fb9f3a\"],[0.8888888888888888,\"#fdca26\"],[1.0,\"#f0f921\"]]}],\"contourcarpet\":[{\"type\":\"contourcarpet\",\"colorbar\":{\"outlinewidth\":0,\"ticks\":\"\"}}],\"contour\":[{\"type\":\"contour\",\"colorbar\":{\"outlinewidth\":0,\"ticks\":\"\"},\"colorscale\":[[0.0,\"#0d0887\"],[0.1111111111111111,\"#46039f\"],[0.2222222222222222,\"#7201a8\"],[0.3333333333333333,\"#9c179e\"],[0.4444444444444444,\"#bd3786\"],[0.5555555555555556,\"#d8576b\"],[0.6666666666666666,\"#ed7953\"],[0.7777777777777778,\"#fb9f3a\"],[0.8888888888888888,\"#fdca26\"],[1.0,\"#f0f921\"]]}],\"surface\":[{\"type\":\"surface\",\"colorbar\":{\"outlinewidth\":0,\"ticks\":\"\"},\"colorscale\":[[0.0,\"#0d0887\"],[0.1111111111111111,\"#46039f\"],[0.2222222222222222,\"#7201a8\"],[0.3333333333333333,\"#9c179e\"],[0.4444444444444444,\"#bd3786\"],[0.5555555555555556,\"#d8576b\"],[0.6666666666666666,\"#ed7953\"],[0.7777777777777778,\"#fb9f3a\"],[0.8888888888888888,\"#fdca26\"],[1.0,\"#f0f921\"]]}],\"mesh3d\":[{\"type\":\"mesh3d\",\"colorbar\":{\"outlinewidth\":0,\"ticks\":\"\"}}],\"scatter\":[{\"fillpattern\":{\"fillmode\":\"overlay\",\"size\":10,\"solidity\":0.2},\"type\":\"scatter\"}],\"parcoords\":[{\"type\":\"parcoords\",\"line\":{\"colorbar\":{\"outlinewidth\":0,\"ticks\":\"\"}}}],\"scatterpolargl\":[{\"type\":\"scatterpolargl\",\"marker\":{\"colorbar\":{\"outlinewidth\":0,\"ticks\":\"\"}}}],\"bar\":[{\"error_x\":{\"color\":\"#2a3f5f\"},\"error_y\":{\"color\":\"#2a3f5f\"},\"marker\":{\"line\":{\"color\":\"#E5ECF6\",\"width\":0.5},\"pattern\":{\"fillmode\":\"overlay\",\"size\":10,\"solidity\":0.2}},\"type\":\"bar\"}],\"scattergeo\":[{\"type\":\"scattergeo\",\"marker\":{\"colorbar\":{\"outlinewidth\":0,\"ticks\":\"\"}}}],\"scatterpolar\":[{\"type\":\"scatterpolar\",\"marker\":{\"colorbar\":{\"outlinewidth\":0,\"ticks\":\"\"}}}],\"histogram\":[{\"marker\":{\"pattern\":{\"fillmode\":\"overlay\",\"size\":10,\"solidity\":0.2}},\"type\":\"histogram\"}],\"scattergl\":[{\"type\":\"scattergl\",\"marker\":{\"colorbar\":{\"outlinewidth\":0,\"ticks\":\"\"}}}],\"scatter3d\":[{\"type\":\"scatter3d\",\"line\":{\"colorbar\":{\"outlinewidth\":0,\"ticks\":\"\"}},\"marker\":{\"colorbar\":{\"outlinewidth\":0,\"ticks\":\"\"}}}],\"scattermapbox\":[{\"type\":\"scattermapbox\",\"marker\":{\"colorbar\":{\"outlinewidth\":0,\"ticks\":\"\"}}}],\"scatterternary\":[{\"type\":\"scatterternary\",\"marker\":{\"colorbar\":{\"outlinewidth\":0,\"ticks\":\"\"}}}],\"scattercarpet\":[{\"type\":\"scattercarpet\",\"marker\":{\"colorbar\":{\"outlinewidth\":0,\"ticks\":\"\"}}}],\"carpet\":[{\"aaxis\":{\"endlinecolor\":\"#2a3f5f\",\"gridcolor\":\"white\",\"linecolor\":\"white\",\"minorgridcolor\":\"white\",\"startlinecolor\":\"#2a3f5f\"},\"baxis\":{\"endlinecolor\":\"#2a3f5f\",\"gridcolor\":\"white\",\"linecolor\":\"white\",\"minorgridcolor\":\"white\",\"startlinecolor\":\"#2a3f5f\"},\"type\":\"carpet\"}],\"table\":[{\"cells\":{\"fill\":{\"color\":\"#EBF0F8\"},\"line\":{\"color\":\"white\"}},\"header\":{\"fill\":{\"color\":\"#C8D4E3\"},\"line\":{\"color\":\"white\"}},\"type\":\"table\"}],\"barpolar\":[{\"marker\":{\"line\":{\"color\":\"#E5ECF6\",\"width\":0.5},\"pattern\":{\"fillmode\":\"overlay\",\"size\":10,\"solidity\":0.2}},\"type\":\"barpolar\"}],\"pie\":[{\"automargin\":true,\"type\":\"pie\"}]},\"layout\":{\"autotypenumbers\":\"strict\",\"colorway\":[\"#636efa\",\"#EF553B\",\"#00cc96\",\"#ab63fa\",\"#FFA15A\",\"#19d3f3\",\"#FF6692\",\"#B6E880\",\"#FF97FF\",\"#FECB52\"],\"font\":{\"color\":\"#2a3f5f\"},\"hovermode\":\"closest\",\"hoverlabel\":{\"align\":\"left\"},\"paper_bgcolor\":\"white\",\"plot_bgcolor\":\"#E5ECF6\",\"polar\":{\"bgcolor\":\"#E5ECF6\",\"angularaxis\":{\"gridcolor\":\"white\",\"linecolor\":\"white\",\"ticks\":\"\"},\"radialaxis\":{\"gridcolor\":\"white\",\"linecolor\":\"white\",\"ticks\":\"\"}},\"ternary\":{\"bgcolor\":\"#E5ECF6\",\"aaxis\":{\"gridcolor\":\"white\",\"linecolor\":\"white\",\"ticks\":\"\"},\"baxis\":{\"gridcolor\":\"white\",\"linecolor\":\"white\",\"ticks\":\"\"},\"caxis\":{\"gridcolor\":\"white\",\"linecolor\":\"white\",\"ticks\":\"\"}},\"coloraxis\":{\"colorbar\":{\"outlinewidth\":0,\"ticks\":\"\"}},\"colorscale\":{\"sequential\":[[0.0,\"#0d0887\"],[0.1111111111111111,\"#46039f\"],[0.2222222222222222,\"#7201a8\"],[0.3333333333333333,\"#9c179e\"],[0.4444444444444444,\"#bd3786\"],[0.5555555555555556,\"#d8576b\"],[0.6666666666666666,\"#ed7953\"],[0.7777777777777778,\"#fb9f3a\"],[0.8888888888888888,\"#fdca26\"],[1.0,\"#f0f921\"]],\"sequentialminus\":[[0.0,\"#0d0887\"],[0.1111111111111111,\"#46039f\"],[0.2222222222222222,\"#7201a8\"],[0.3333333333333333,\"#9c179e\"],[0.4444444444444444,\"#bd3786\"],[0.5555555555555556,\"#d8576b\"],[0.6666666666666666,\"#ed7953\"],[0.7777777777777778,\"#fb9f3a\"],[0.8888888888888888,\"#fdca26\"],[1.0,\"#f0f921\"]],\"diverging\":[[0,\"#8e0152\"],[0.1,\"#c51b7d\"],[0.2,\"#de77ae\"],[0.3,\"#f1b6da\"],[0.4,\"#fde0ef\"],[0.5,\"#f7f7f7\"],[0.6,\"#e6f5d0\"],[0.7,\"#b8e186\"],[0.8,\"#7fbc41\"],[0.9,\"#4d9221\"],[1,\"#276419\"]]},\"xaxis\":{\"gridcolor\":\"white\",\"linecolor\":\"white\",\"ticks\":\"\",\"title\":{\"standoff\":15},\"zerolinecolor\":\"white\",\"automargin\":true,\"zerolinewidth\":2},\"yaxis\":{\"gridcolor\":\"white\",\"linecolor\":\"white\",\"ticks\":\"\",\"title\":{\"standoff\":15},\"zerolinecolor\":\"white\",\"automargin\":true,\"zerolinewidth\":2},\"scene\":{\"xaxis\":{\"backgroundcolor\":\"#E5ECF6\",\"gridcolor\":\"white\",\"linecolor\":\"white\",\"showbackground\":true,\"ticks\":\"\",\"zerolinecolor\":\"white\",\"gridwidth\":2},\"yaxis\":{\"backgroundcolor\":\"#E5ECF6\",\"gridcolor\":\"white\",\"linecolor\":\"white\",\"showbackground\":true,\"ticks\":\"\",\"zerolinecolor\":\"white\",\"gridwidth\":2},\"zaxis\":{\"backgroundcolor\":\"#E5ECF6\",\"gridcolor\":\"white\",\"linecolor\":\"white\",\"showbackground\":true,\"ticks\":\"\",\"zerolinecolor\":\"white\",\"gridwidth\":2}},\"shapedefaults\":{\"line\":{\"color\":\"#2a3f5f\"}},\"annotationdefaults\":{\"arrowcolor\":\"#2a3f5f\",\"arrowhead\":0,\"arrowwidth\":1},\"geo\":{\"bgcolor\":\"white\",\"landcolor\":\"#E5ECF6\",\"subunitcolor\":\"white\",\"showland\":true,\"showlakes\":true,\"lakecolor\":\"white\"},\"title\":{\"x\":0.05},\"mapbox\":{\"style\":\"light\"}}},\"title\":{\"text\":\"Flujo de usuarios entre canales (Sankey)\"},\"font\":{\"size\":12},\"height\":800,\"width\":1400},                        {\"responsive\": true}                    ).then(function(){\n",
              "                            \n",
              "var gd = document.getElementById('eb064f0b-bac0-4be9-8f9e-715db351e4b7');\n",
              "var x = new MutationObserver(function (mutations, observer) {{\n",
              "        var display = window.getComputedStyle(gd).display;\n",
              "        if (!display || display === 'none') {{\n",
              "            console.log([gd, 'removed!']);\n",
              "            Plotly.purge(gd);\n",
              "            observer.disconnect();\n",
              "        }}\n",
              "}});\n",
              "\n",
              "// Listen for the removal of the full notebook cells\n",
              "var notebookContainer = gd.closest('#notebook-container');\n",
              "if (notebookContainer) {{\n",
              "    x.observe(notebookContainer, {childList: true});\n",
              "}}\n",
              "\n",
              "// Listen for the clearing of the current output cell\n",
              "var outputEl = gd.closest('.output');\n",
              "if (outputEl) {{\n",
              "    x.observe(outputEl, {childList: true});\n",
              "}}\n",
              "\n",
              "                        })                };                            </script>        </div>\n",
              "</body>\n",
              "</html>"
            ]
          },
          "metadata": {}
        }
      ]
    },
    {
      "cell_type": "markdown",
      "source": [
        "**9. Visualización de resultados comparativos**  \n",
        "Creamos gráficos para comparar los resultados con diferentes números de iteraciones."
      ],
      "metadata": {
        "id": "bRjvBDV4lJI4"
      }
    },
    {
      "cell_type": "code",
      "source": [
        "# 1. Gráfico de tiempos de ejecución\n",
        "plt.figure(figsize=(12, 6))\n",
        "plt.subplot(2, 2, 1)\n",
        "plt.plot(ITERATIONS_TO_TEST, execution_times, 'o-')\n",
        "plt.title('Tiempo de ejecución vs. Iteraciones')\n",
        "plt.xlabel('Número de iteraciones')\n",
        "plt.ylabel('Tiempo (segundos)')\n",
        "plt.grid(True)\n",
        "\n",
        "# 2. Gráfico de probabilidad de conversión\n",
        "plt.subplot(2, 2, 2)\n",
        "plt.plot(ITERATIONS_TO_TEST, conversion_probs, 'o-')\n",
        "plt.title('Probabilidad de conversión vs. Iteraciones')\n",
        "plt.xlabel('Número de iteraciones')\n",
        "plt.ylabel('Probabilidad')\n",
        "plt.grid(True)\n",
        "\n",
        "# 3. Gráfico de canales con atribución no nula\n",
        "plt.subplot(2, 2, 3)\n",
        "plt.plot(ITERATIONS_TO_TEST, nonzero_channels, 'o-')\n",
        "plt.title('Canales con atribución > 0 vs. Iteraciones')\n",
        "plt.xlabel('Número de iteraciones')\n",
        "plt.ylabel('Número de canales')\n",
        "plt.grid(True)\n",
        "\n",
        "# 4. Gráfico de diferencias porcentuales\n",
        "if differences:\n",
        "    plt.subplot(2, 2, 4)\n",
        "    iter_pairs = [f\"{ITERATIONS_TO_TEST[i-1]} → {ITERATIONS_TO_TEST[i]}\" for i in range(1, len(ITERATIONS_TO_TEST))]\n",
        "    plt.bar(iter_pairs, differences)\n",
        "    plt.title('Diferencia % en top 10 canales')\n",
        "    plt.ylabel('Diferencia promedio (%)')\n",
        "    plt.xticks(rotation=45)\n",
        "    plt.grid(True, axis='y')\n",
        "\n",
        "plt.tight_layout()\n",
        "plt.savefig('comparacion_iteraciones.png')\n",
        "print(\"✅ Gráfico 'comparacion_iteraciones.png' guardado correctamente.\")\n",
        "\n"
      ],
      "metadata": {
        "id": "-oU0h6wclJT6",
        "colab": {
          "base_uri": "https://localhost:8080/",
          "height": 624
        },
        "outputId": "4cb48113-2b72-41ce-aa4a-1d1281f1fe1a"
      },
      "execution_count": null,
      "outputs": [
        {
          "output_type": "stream",
          "name": "stdout",
          "text": [
            "✅ Gráfico 'comparacion_iteraciones.png' guardado correctamente.\n"
          ]
        },
        {
          "output_type": "display_data",
          "data": {
            "text/plain": [
              "<Figure size 1200x600 with 4 Axes>"
            ],
            "image/png": "[encoded data removed]"
          },
          "metadata": {}
        }
      ]
    },
    {
      "cell_type": "markdown",
      "source": [
        "**10. Generación de tablas comparativas**  \n",
        "Creamos una tabla que muestra cómo cambian los resultados con diferentes números de iteraciones."
      ],
      "metadata": {
        "id": "kWdK9v4Xlol8"
      }
    },
    {
      "cell_type": "code",
      "source": [
        "# Crear tabla comparativa de los top 10 canales\n",
        "final_results = all_results[ITERATIONS_TO_TEST[-1]]\n",
        "top_channels = sorted(final_results.items(), key=lambda x: x[1], reverse=True)[:10]\n",
        "\n",
        "comparison_data = []\n",
        "headers = ['Canal'] + [f'{n_iter} iter.' for n_iter in ITERATIONS_TO_TEST] + ['Máx. diferencia %']\n",
        "\n",
        "for channel, _ in top_channels:\n",
        "    row = [channel]\n",
        "    values = [all_results[n_iter].get(channel, 0) for n_iter in ITERATIONS_TO_TEST]\n",
        "    row.extend([f\"{val:.6f}\" for val in values])\n",
        "\n",
        "    # Calcular diferencia máxima\n",
        "    if len(values) > 1 and values[-1] > 0:  # Comparar con el valor final como referencia\n",
        "        max_diff = max([abs(val - values[-1]) / values[-1] * 100 for val in values[:-1]] or [0])\n",
        "        row.append(f\"{max_diff:.2f}\")\n",
        "    else:\n",
        "        row.append(\"N/A\")\n",
        "\n",
        "    comparison_data.append(row)\n",
        "\n",
        "# Crear DataFrame y guardar como CSV\n",
        "comparison_df = pd.DataFrame(comparison_data, columns=headers)\n",
        "comparison_df.to_csv('comparacion_atribucion.csv', index=False)\n",
        "print(\"✅ Archivo 'comparacion_atribucion.csv' guardado correctamente.\")\n",
        "\n"
      ],
      "metadata": {
        "id": "BczEe2Kplov5",
        "colab": {
          "base_uri": "https://localhost:8080/"
        },
        "outputId": "21e09994-14cf-48cf-e931-9dcf2c41469d"
      },
      "execution_count": null,
      "outputs": [
        {
          "output_type": "stream",
          "name": "stdout",
          "text": [
            "✅ Archivo 'comparacion_atribucion.csv' guardado correctamente.\n"
          ]
        }
      ]
    },
    {
      "cell_type": "markdown",
      "source": [
        "**11. Exportación de resultados completos**  \n",
        "Exportamos los resultados completos para cada conjunto de iteraciones."
      ],
      "metadata": {
        "id": "GDVlDKsbl45l"
      }
    },
    {
      "cell_type": "code",
      "source": [
        "# Generar y guardar el archivo completo de atribución para cada número de iteraciones\n",
        "for n_iter in ITERATIONS_TO_TEST:\n",
        "    # Obtener resultados de esta iteración\n",
        "    attribution = all_results[n_iter]\n",
        "\n",
        "    # Crear DataFrame con todos los canales y sus métricas\n",
        "    full_results = []\n",
        "    for channel in attribution.keys():\n",
        "        # Obtener valores de los diferentes métodos de atribución para esta iteración\n",
        "        removal_value = removal_attribution_global.get(channel, 0)\n",
        "        first_touch_value = first_touch_attribution_global.get(channel, 0)\n",
        "\n",
        "        full_results.append({\n",
        "            'channel': channel,\n",
        "            'attribution': attribution.get(channel, 0),\n",
        "            'apariciones': channel_counts.get(channel, 0),\n",
        "            'removal_effect': removal_value,\n",
        "            'first_touch': first_touch_value\n",
        "        })\n",
        "\n",
        "    # Crear y guardar DataFrame\n",
        "    full_df = pd.DataFrame(full_results)\n",
        "    full_df = full_df.sort_values(by='attribution', ascending=False)\n",
        "    filename = f'atribucion_completa_{n_iter}_iter.csv'\n",
        "    full_df.to_csv(filename, index=False)\n",
        "    print(f\"✅ Archivo '{filename}' guardado correctamente.\")\n",
        "\n"
      ],
      "metadata": {
        "id": "ifAtNyn5l5DO",
        "colab": {
          "base_uri": "https://localhost:8080/"
        },
        "outputId": "824fc2c1-58a3-4731-9261-ccaf34ab3e35"
      },
      "execution_count": null,
      "outputs": [
        {
          "output_type": "stream",
          "name": "stdout",
          "text": [
            "✅ Archivo 'atribucion_completa_100000_iter.csv' guardado correctamente.\n",
            "✅ Archivo 'atribucion_completa_125000_iter.csv' guardado correctamente.\n",
            "✅ Archivo 'atribucion_completa_150000_iter.csv' guardado correctamente.\n",
            "✅ Archivo 'atribucion_completa_175000_iter.csv' guardado correctamente.\n"
          ]
        }
      ]
    },
    {
      "cell_type": "markdown",
      "source": [
        "**12. Conclusiones del análisis**\n",
        "Finalmente, mostramos un resumen de las conclusiones del análisis."
      ],
      "metadata": {
        "id": "_nJvQrmxmEt8"
      }
    },
    {
      "cell_type": "code",
      "source": [
        "# Resumen de conclusiones\n",
        "print(\"\\n=== CONCLUSIONES ===\")\n",
        "print(f\"Diferencia promedio entre {ITERATIONS_TO_TEST[0]} y {ITERATIONS_TO_TEST[-1]} iteraciones: {sum(differences)/len(differences):.2f}%\")\n",
        "\n",
        "if sum(differences)/len(differences) < 5:\n",
        "    print(f\"✅ {ITERATIONS_TO_TEST[0]} iteraciones parecen suficientes (diferencia < 5%)\")\n",
        "elif sum(differences)/len(differences) < 10:\n",
        "    print(f\"⚠️ {ITERATIONS_TO_TEST[0]} iteraciones muestran variación moderada (diferencia < 10%)\")\n",
        "else:\n",
        "    print(f\"❌ Se recomienda usar al menos {ITERATIONS_TO_TEST[-1]} iteraciones (diferencia > 10%)\")\n",
        "\n",
        "print(\"\\nLas métricas sugeridas para decidir el número óptimo de iteraciones son:\")\n",
        "print(\"1. Estabilidad en los valores de atribución de los principales canales\")\n",
        "print(\"2. Número de canales con atribución no nula\")\n",
        "print(\"3. Tiempo de computación aceptable\")\n",
        "\n",
        "print(\"\\n✅ Análisis completado. Revisa los archivos generados para tomar una decisión informada.\")"
      ],
      "metadata": {
        "id": "R7I3X7y_mE4Y",
        "colab": {
          "base_uri": "https://localhost:8080/"
        },
        "outputId": "8f403a05-5614-4e1b-cdf7-59f19e3cddcf"
      },
      "execution_count": null,
      "outputs": [
        {
          "output_type": "stream",
          "name": "stdout",
          "text": [
            "\n",
            "=== CONCLUSIONES ===\n",
            "Diferencia promedio entre 100000 y 175000 iteraciones: 18.75%\n",
            "❌ Se recomienda usar al menos 175000 iteraciones (diferencia > 10%)\n",
            "\n",
            "Las métricas sugeridas para decidir el número óptimo de iteraciones son:\n",
            "1. Estabilidad en los valores de atribución de los principales canales\n",
            "2. Número de canales con atribución no nula\n",
            "3. Tiempo de computación aceptable\n",
            "\n",
            "✅ Análisis completado. Revisa los archivos generados para tomar una decisión informada.\n"
          ]
        }
      ]
    },
    {
      "cell_type": "markdown",
      "source": [
        "**13. Descarga de resultados**  \n",
        "Al finalizar el análisis, puedes guardar los resultados en tu carpeta de descargas. Ejecuta la última línea de este código."
      ],
      "metadata": {
        "id": "x6Vm_OY22EvW"
      }
    },
    {
      "cell_type": "code",
      "source": [
        "# Descargar los resultados generados\n",
        "from google.colab import files\n",
        "import os\n",
        "\n",
        "def descargar_resultados():\n",
        "    print(\"\\n=== DESCARGA DE RESULTADOS ===\")\n",
        "    print(\"Iniciando la descarga de los archivos generados...\")\n",
        "\n",
        "    # Lista de archivos generados para descargar\n",
        "    archivos_a_descargar = [\n",
        "        \"sankey_markov.html\",\n",
        "        \"comparacion_iteraciones.png\",\n",
        "        \"comparacion_atribucion.csv\"\n",
        "    ]\n",
        "\n",
        "    # Añadir archivos de atribución para cada iteración\n",
        "    for n_iter in ITERATIONS_TO_TEST:\n",
        "        archivos_a_descargar.append(f'atribucion_completa_{n_iter}_iter.csv')\n",
        "\n",
        "    # Descargar cada archivo si existe\n",
        "    archivos_descargados = 0\n",
        "    for archivo in archivos_a_descargar:\n",
        "        if os.path.exists(archivo):\n",
        "            print(f\"⬇️ Descargando {archivo}...\")\n",
        "            files.download(archivo)\n",
        "            archivos_descargados += 1\n",
        "        else:\n",
        "            print(f\"⚠️ No se encontró el archivo {archivo}\")\n",
        "\n",
        "    print(f\"\\n✅ Proceso de descarga completado. Se descargaron {archivos_descargados} archivos.\")\n",
        "    print(\"  Revisa la carpeta de descargas de tu navegador.\")\n",
        "\n",
        "# Ejecuta esta función cuando quieras descargar los resultados\n",
        "#descargar_resultados()"
      ],
      "metadata": {
        "id": "HbXppoY91JwT",
        "outputId": "10fd20a4-b791-49b1-b70d-1160e2144fac",
        "colab": {
          "base_uri": "https://localhost:8080/",
          "height": 243
        }
      },
      "execution_count": null,
      "outputs": [
        {
          "output_type": "stream",
          "name": "stdout",
          "text": [
            "\n",
            "=== DESCARGA DE RESULTADOS ===\n",
            "Iniciando la descarga de los archivos generados...\n",
            "⬇️ Descargando sankey_markov.html...\n"
          ]
        },
        {
          "output_type": "display_data",
          "data": {
            "text/plain": [
              "<IPython.core.display.Javascript object>"
            ],
            "application/javascript": [
              "\n",
              "    async function download(id, filename, size) {\n",
              "      if (!google.colab.kernel.accessAllowed) {\n",
              "        return;\n",
              "      }\n",
              "      const div = document.createElement('div');\n",
              "      const label = document.createElement('label');\n",
              "      label.textContent = `Downloading \"${filename}\": `;\n",
              "      div.appendChild(label);\n",
              "      const progress = document.createElement('progress');\n",
              "      progress.max = size;\n",
              "      div.appendChild(progress);\n",
              "      document.body.appendChild(div);\n",
              "\n",
              "      const buffers = [];\n",
              "      let downloaded = 0;\n",
              "\n",
              "      const channel = await google.colab.kernel.comms.open(id);\n",
              "      // Send a message to notify the kernel that we're ready.\n",
              "      channel.send({})\n",
              "\n",
              "      for await (const message of channel.messages) {\n",
              "        // Send a message to notify the kernel that we're ready.\n",
              "        channel.send({})\n",
              "        if (message.buffers) {\n",
              "          for (const buffer of message.buffers) {\n",
              "            buffers.push(buffer);\n",
              "            downloaded += buffer.byteLength;\n",
              "            progress.value = downloaded;\n",
              "          }\n",
              "        }\n",
              "      }\n",
              "      const blob = new Blob(buffers, {type: 'application/binary'});\n",
              "      const a = document.createElement('a');\n",
              "      a.href = window.URL.createObjectURL(blob);\n",
              "      a.download = filename;\n",
              "      div.appendChild(a);\n",
              "      a.click();\n",
              "      div.remove();\n",
              "    }\n",
              "  "
            ]
          },
          "metadata": {}
        },
        {
          "output_type": "display_data",
          "data": {
            "text/plain": [
              "<IPython.core.display.Javascript object>"
            ],
            "application/javascript": [
              "download(\"download_0a92a4ea-0829-4ecb-b5e9-c5dcf8b299a5\", \"sankey_markov.html\", 4567292)"
            ]
          },
          "metadata": {}
        },
        {
          "output_type": "stream",
          "name": "stdout",
          "text": [
            "⬇️ Descargando comparacion_iteraciones.png...\n"
          ]
        },
        {
          "output_type": "display_data",
          "data": {
            "text/plain": [
              "<IPython.core.display.Javascript object>"
            ],
            "application/javascript": [
              "\n",
              "    async function download(id, filename, size) {\n",
              "      if (!google.colab.kernel.accessAllowed) {\n",
              "        return;\n",
              "      }\n",
              "      const div = document.createElement('div');\n",
              "      const label = document.createElement('label');\n",
              "      label.textContent = `Downloading \"${filename}\": `;\n",
              "      div.appendChild(label);\n",
              "      const progress = document.createElement('progress');\n",
              "      progress.max = size;\n",
              "      div.appendChild(progress);\n",
              "      document.body.appendChild(div);\n",
              "\n",
              "      const buffers = [];\n",
              "      let downloaded = 0;\n",
              "\n",
              "      const channel = await google.colab.kernel.comms.open(id);\n",
              "      // Send a message to notify the kernel that we're ready.\n",
              "      channel.send({})\n",
              "\n",
              "      for await (const message of channel.messages) {\n",
              "        // Send a message to notify the kernel that we're ready.\n",
              "        channel.send({})\n",
              "        if (message.buffers) {\n",
              "          for (const buffer of message.buffers) {\n",
              "            buffers.push(buffer);\n",
              "            downloaded += buffer.byteLength;\n",
              "            progress.value = downloaded;\n",
              "          }\n",
              "        }\n",
              "      }\n",
              "      const blob = new Blob(buffers, {type: 'application/binary'});\n",
              "      const a = document.createElement('a');\n",
              "      a.href = window.URL.createObjectURL(blob);\n",
              "      a.download = filename;\n",
              "      div.appendChild(a);\n",
              "      a.click();\n",
              "      div.remove();\n",
              "    }\n",
              "  "
            ]
          },
          "metadata": {}
        },
        {
          "output_type": "display_data",
          "data": {
            "text/plain": [
              "<IPython.core.display.Javascript object>"
            ],
            "application/javascript": [
              "download(\"download_1b45c9ee-edae-42a3-b25d-25783bcfafa5\", \"comparacion_iteraciones.png\", 83941)"
            ]
          },
          "metadata": {}
        },
        {
          "output_type": "stream",
          "name": "stdout",
          "text": [
            "⬇️ Descargando comparacion_atribucion.csv...\n"
          ]
        },
        {
          "output_type": "display_data",
          "data": {
            "text/plain": [
              "<IPython.core.display.Javascript object>"
            ],
            "application/javascript": [
              "\n",
              "    async function download(id, filename, size) {\n",
              "      if (!google.colab.kernel.accessAllowed) {\n",
              "        return;\n",
              "      }\n",
              "      const div = document.createElement('div');\n",
              "      const label = document.createElement('label');\n",
              "      label.textContent = `Downloading \"${filename}\": `;\n",
              "      div.appendChild(label);\n",
              "      const progress = document.createElement('progress');\n",
              "      progress.max = size;\n",
              "      div.appendChild(progress);\n",
              "      document.body.appendChild(div);\n",
              "\n",
              "      const buffers = [];\n",
              "      let downloaded = 0;\n",
              "\n",
              "      const channel = await google.colab.kernel.comms.open(id);\n",
              "      // Send a message to notify the kernel that we're ready.\n",
              "      channel.send({})\n",
              "\n",
              "      for await (const message of channel.messages) {\n",
              "        // Send a message to notify the kernel that we're ready.\n",
              "        channel.send({})\n",
              "        if (message.buffers) {\n",
              "          for (const buffer of message.buffers) {\n",
              "            buffers.push(buffer);\n",
              "            downloaded += buffer.byteLength;\n",
              "            progress.value = downloaded;\n",
              "          }\n",
              "        }\n",
              "      }\n",
              "      const blob = new Blob(buffers, {type: 'application/binary'});\n",
              "      const a = document.createElement('a');\n",
              "      a.href = window.URL.createObjectURL(blob);\n",
              "      a.download = filename;\n",
              "      div.appendChild(a);\n",
              "      a.click();\n",
              "      div.remove();\n",
              "    }\n",
              "  "
            ]
          },
          "metadata": {}
        },
        {
          "output_type": "display_data",
          "data": {
            "text/plain": [
              "<IPython.core.display.Javascript object>"
            ],
            "application/javascript": [
              "download(\"download_5fd4c7d7-af65-4136-b66a-6f0a9c7852a2\", \"comparacion_atribucion.csv\", 701)"
            ]
          },
          "metadata": {}
        },
        {
          "output_type": "stream",
          "name": "stdout",
          "text": [
            "⬇️ Descargando atribucion_completa_100000_iter.csv...\n"
          ]
        },
        {
          "output_type": "display_data",
          "data": {
            "text/plain": [
              "<IPython.core.display.Javascript object>"
            ],
            "application/javascript": [
              "\n",
              "    async function download(id, filename, size) {\n",
              "      if (!google.colab.kernel.accessAllowed) {\n",
              "        return;\n",
              "      }\n",
              "      const div = document.createElement('div');\n",
              "      const label = document.createElement('label');\n",
              "      label.textContent = `Downloading \"${filename}\": `;\n",
              "      div.appendChild(label);\n",
              "      const progress = document.createElement('progress');\n",
              "      progress.max = size;\n",
              "      div.appendChild(progress);\n",
              "      document.body.appendChild(div);\n",
              "\n",
              "      const buffers = [];\n",
              "      let downloaded = 0;\n",
              "\n",
              "      const channel = await google.colab.kernel.comms.open(id);\n",
              "      // Send a message to notify the kernel that we're ready.\n",
              "      channel.send({})\n",
              "\n",
              "      for await (const message of channel.messages) {\n",
              "        // Send a message to notify the kernel that we're ready.\n",
              "        channel.send({})\n",
              "        if (message.buffers) {\n",
              "          for (const buffer of message.buffers) {\n",
              "            buffers.push(buffer);\n",
              "            downloaded += buffer.byteLength;\n",
              "            progress.value = downloaded;\n",
              "          }\n",
              "        }\n",
              "      }\n",
              "      const blob = new Blob(buffers, {type: 'application/binary'});\n",
              "      const a = document.createElement('a');\n",
              "      a.href = window.URL.createObjectURL(blob);\n",
              "      a.download = filename;\n",
              "      div.appendChild(a);\n",
              "      a.click();\n",
              "      div.remove();\n",
              "    }\n",
              "  "
            ]
          },
          "metadata": {}
        },
        {
          "output_type": "display_data",
          "data": {
            "text/plain": [
              "<IPython.core.display.Javascript object>"
            ],
            "application/javascript": [
              "download(\"download_0232a4f7-c0f5-4b84-a796-a35e3981b069\", \"atribucion_completa_100000_iter.csv\", 821)"
            ]
          },
          "metadata": {}
        },
        {
          "output_type": "stream",
          "name": "stdout",
          "text": [
            "⬇️ Descargando atribucion_completa_125000_iter.csv...\n"
          ]
        },
        {
          "output_type": "display_data",
          "data": {
            "text/plain": [
              "<IPython.core.display.Javascript object>"
            ],
            "application/javascript": [
              "\n",
              "    async function download(id, filename, size) {\n",
              "      if (!google.colab.kernel.accessAllowed) {\n",
              "        return;\n",
              "      }\n",
              "      const div = document.createElement('div');\n",
              "      const label = document.createElement('label');\n",
              "      label.textContent = `Downloading \"${filename}\": `;\n",
              "      div.appendChild(label);\n",
              "      const progress = document.createElement('progress');\n",
              "      progress.max = size;\n",
              "      div.appendChild(progress);\n",
              "      document.body.appendChild(div);\n",
              "\n",
              "      const buffers = [];\n",
              "      let downloaded = 0;\n",
              "\n",
              "      const channel = await google.colab.kernel.comms.open(id);\n",
              "      // Send a message to notify the kernel that we're ready.\n",
              "      channel.send({})\n",
              "\n",
              "      for await (const message of channel.messages) {\n",
              "        // Send a message to notify the kernel that we're ready.\n",
              "        channel.send({})\n",
              "        if (message.buffers) {\n",
              "          for (const buffer of message.buffers) {\n",
              "            buffers.push(buffer);\n",
              "            downloaded += buffer.byteLength;\n",
              "            progress.value = downloaded;\n",
              "          }\n",
              "        }\n",
              "      }\n",
              "      const blob = new Blob(buffers, {type: 'application/binary'});\n",
              "      const a = document.createElement('a');\n",
              "      a.href = window.URL.createObjectURL(blob);\n",
              "      a.download = filename;\n",
              "      div.appendChild(a);\n",
              "      a.click();\n",
              "      div.remove();\n",
              "    }\n",
              "  "
            ]
          },
          "metadata": {}
        },
        {
          "output_type": "display_data",
          "data": {
            "text/plain": [
              "<IPython.core.display.Javascript object>"
            ],
            "application/javascript": [
              "download(\"download_ba9125d7-5e45-490a-b7e5-ff208f642370\", \"atribucion_completa_125000_iter.csv\", 819)"
            ]
          },
          "metadata": {}
        },
        {
          "output_type": "stream",
          "name": "stdout",
          "text": [
            "⬇️ Descargando atribucion_completa_150000_iter.csv...\n"
          ]
        },
        {
          "output_type": "display_data",
          "data": {
            "text/plain": [
              "<IPython.core.display.Javascript object>"
            ],
            "application/javascript": [
              "\n",
              "    async function download(id, filename, size) {\n",
              "      if (!google.colab.kernel.accessAllowed) {\n",
              "        return;\n",
              "      }\n",
              "      const div = document.createElement('div');\n",
              "      const label = document.createElement('label');\n",
              "      label.textContent = `Downloading \"${filename}\": `;\n",
              "      div.appendChild(label);\n",
              "      const progress = document.createElement('progress');\n",
              "      progress.max = size;\n",
              "      div.appendChild(progress);\n",
              "      document.body.appendChild(div);\n",
              "\n",
              "      const buffers = [];\n",
              "      let downloaded = 0;\n",
              "\n",
              "      const channel = await google.colab.kernel.comms.open(id);\n",
              "      // Send a message to notify the kernel that we're ready.\n",
              "      channel.send({})\n",
              "\n",
              "      for await (const message of channel.messages) {\n",
              "        // Send a message to notify the kernel that we're ready.\n",
              "        channel.send({})\n",
              "        if (message.buffers) {\n",
              "          for (const buffer of message.buffers) {\n",
              "            buffers.push(buffer);\n",
              "            downloaded += buffer.byteLength;\n",
              "            progress.value = downloaded;\n",
              "          }\n",
              "        }\n",
              "      }\n",
              "      const blob = new Blob(buffers, {type: 'application/binary'});\n",
              "      const a = document.createElement('a');\n",
              "      a.href = window.URL.createObjectURL(blob);\n",
              "      a.download = filename;\n",
              "      div.appendChild(a);\n",
              "      a.click();\n",
              "      div.remove();\n",
              "    }\n",
              "  "
            ]
          },
          "metadata": {}
        },
        {
          "output_type": "display_data",
          "data": {
            "text/plain": [
              "<IPython.core.display.Javascript object>"
            ],
            "application/javascript": [
              "download(\"download_a045bee8-5609-4a17-ac48-8078e8878379\", \"atribucion_completa_150000_iter.csv\", 818)"
            ]
          },
          "metadata": {}
        },
        {
          "output_type": "stream",
          "name": "stdout",
          "text": [
            "⬇️ Descargando atribucion_completa_175000_iter.csv...\n"
          ]
        },
        {
          "output_type": "display_data",
          "data": {
            "text/plain": [
              "<IPython.core.display.Javascript object>"
            ],
            "application/javascript": [
              "\n",
              "    async function download(id, filename, size) {\n",
              "      if (!google.colab.kernel.accessAllowed) {\n",
              "        return;\n",
              "      }\n",
              "      const div = document.createElement('div');\n",
              "      const label = document.createElement('label');\n",
              "      label.textContent = `Downloading \"${filename}\": `;\n",
              "      div.appendChild(label);\n",
              "      const progress = document.createElement('progress');\n",
              "      progress.max = size;\n",
              "      div.appendChild(progress);\n",
              "      document.body.appendChild(div);\n",
              "\n",
              "      const buffers = [];\n",
              "      let downloaded = 0;\n",
              "\n",
              "      const channel = await google.colab.kernel.comms.open(id);\n",
              "      // Send a message to notify the kernel that we're ready.\n",
              "      channel.send({})\n",
              "\n",
              "      for await (const message of channel.messages) {\n",
              "        // Send a message to notify the kernel that we're ready.\n",
              "        channel.send({})\n",
              "        if (message.buffers) {\n",
              "          for (const buffer of message.buffers) {\n",
              "            buffers.push(buffer);\n",
              "            downloaded += buffer.byteLength;\n",
              "            progress.value = downloaded;\n",
              "          }\n",
              "        }\n",
              "      }\n",
              "      const blob = new Blob(buffers, {type: 'application/binary'});\n",
              "      const a = document.createElement('a');\n",
              "      a.href = window.URL.createObjectURL(blob);\n",
              "      a.download = filename;\n",
              "      div.appendChild(a);\n",
              "      a.click();\n",
              "      div.remove();\n",
              "    }\n",
              "  "
            ]
          },
          "metadata": {}
        },
        {
          "output_type": "display_data",
          "data": {
            "text/plain": [
              "<IPython.core.display.Javascript object>"
            ],
            "application/javascript": [
              "download(\"download_31cd1cb7-ab19-4191-9ce9-88f849336ca4\", \"atribucion_completa_175000_iter.csv\", 819)"
            ]
          },
          "metadata": {}
        },
        {
          "output_type": "stream",
          "name": "stdout",
          "text": [
            "\n",
            "✅ Proceso de descarga completado. Se descargaron 7 archivos.\n",
            "  Revisa la carpeta de descargas de tu navegador.\n"
          ]
        }
      ]
    }
  ]
}
